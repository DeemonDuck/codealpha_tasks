{
  "nbformat": 4,
  "nbformat_minor": 0,
  "metadata": {
    "colab": {
      "provenance": [],
      "mount_file_id": "1EtKD0pJFx4eov7LAcAsuKe4CTllF0lIN",
      "authorship_tag": "ABX9TyNkRyqOxH6zQyqzGpDxiGcs",
      "include_colab_link": true
    },
    "kernelspec": {
      "name": "python3",
      "display_name": "Python 3"
    },
    "language_info": {
      "name": "python"
    }
  },
  "cells": [
    {
      "cell_type": "markdown",
      "metadata": {
        "id": "view-in-github",
        "colab_type": "text"
      },
      "source": [
        "<a href=\"https://colab.research.google.com/github/DeemonDuck/codealpha_tasks/blob/main/CREDIT_SCORING_MODEL_CODEALPHA.ipynb\" target=\"_parent\"><img src=\"https://colab.research.google.com/assets/colab-badge.svg\" alt=\"Open In Colab\"/></a>"
      ]
    },
    {
      "cell_type": "markdown",
      "source": [
        "# **Step-1: Dataset is already uploaded on the drive and accessed through the path**"
      ],
      "metadata": {
        "id": "DJ359dIre5ug"
      }
    },
    {
      "cell_type": "markdown",
      "source": [
        "  We are already provided with a clean data file which we can directly used to train model but we are manually doing the cleaning and processing and later compare which performs better"
      ],
      "metadata": {
        "id": "Evit9e-UqnLy"
      }
    },
    {
      "cell_type": "code",
      "source": [
        "from google.colab import drive\n",
        "drive.mount('/content/drive')"
      ],
      "metadata": {
        "colab": {
          "base_uri": "https://localhost:8080/"
        },
        "id": "NmCQcEDVvf99",
        "outputId": "11efdc17-2efc-46d0-ba97-35adb04a2bf1"
      },
      "execution_count": null,
      "outputs": [
        {
          "output_type": "stream",
          "name": "stdout",
          "text": [
            "Drive already mounted at /content/drive; to attempt to forcibly remount, call drive.mount(\"/content/drive\", force_remount=True).\n"
          ]
        }
      ]
    },
    {
      "cell_type": "code",
      "execution_count": null,
      "metadata": {
        "colab": {
          "base_uri": "https://localhost:8080/"
        },
        "id": "VpguSlegbfsc",
        "outputId": "55f7db6a-d3c2-4e9d-edef-2b2bf4a609ea"
      },
      "outputs": [
        {
          "output_type": "stream",
          "name": "stdout",
          "text": [
            "Dataset loaded successfully!\n",
            "Shape of the dataset: (1000, 21)\n",
            "First 5 rows of the dataset:\n",
            "    0   1    2    3     4    5    6   7    8     9   ...    11  12    13  \\\n",
            "0  A11   6  A34  A43  1169  A65  A75   4  A93  A101  ...  A121  67  A143   \n",
            "1  A12  48  A32  A43  5951  A61  A73   2  A92  A101  ...  A121  22  A143   \n",
            "2  A14  12  A34  A46  2096  A61  A74   2  A93  A101  ...  A121  49  A143   \n",
            "3  A11  42  A32  A42  7882  A61  A74   2  A93  A103  ...  A122  45  A143   \n",
            "4  A11  24  A33  A40  4870  A61  A73   3  A93  A101  ...  A124  53  A143   \n",
            "\n",
            "     14 15    16 17    18    19 20  \n",
            "0  A152  2  A173  1  A192  A201  1  \n",
            "1  A152  1  A173  1  A191  A201  2  \n",
            "2  A152  1  A172  2  A191  A201  1  \n",
            "3  A153  1  A173  2  A191  A201  1  \n",
            "4  A153  2  A173  2  A191  A201  2  \n",
            "\n",
            "[5 rows x 21 columns]\n"
          ]
        }
      ],
      "source": [
        "import pandas as pd\n",
        "\n",
        "file_path = '/content/drive/MyDrive/CODEALPHA_PROJECTS/CREDIT_SCORING_MODEL/DATASET/german.data'\n",
        "\n",
        "# Loading the dataset...'sep' is used because the data is space-separated, not comma-separated.\n",
        "try:\n",
        "    credit_df = pd.read_csv(file_path, sep=' ', header=None)\n",
        "    print(\"Dataset loaded successfully!\")\n",
        "    print(\"Shape of the dataset:\", credit_df.shape)\n",
        "    print(\"First 5 rows of the dataset:\")\n",
        "    print(credit_df.head())\n",
        "except FileNotFoundError:\n",
        "    print(f\"Error: The file was not found at {file_path}\")"
      ]
    },
    {
      "cell_type": "markdown",
      "source": [
        "assigning the meaningful column names from the doc files given with the dataset"
      ],
      "metadata": {
        "id": "rNpY_EyBrsRk"
      }
    },
    {
      "cell_type": "code",
      "source": [
        "column_names = [\n",
        "    'checking_status', 'duration_month', 'credit_history', 'purpose', 'credit_amount',\n",
        "    'savings_status', 'employment_since', 'installment_rate', 'personal_status_sex',\n",
        "    'other_debtors', 'present_residence_since', 'property_magnitude', 'age',\n",
        "    'other_payment_plans', 'housing', 'existing_credits', 'job', 'num_dependents',\n",
        "    'own_telephone', 'foreign_worker', 'credit_risk'\n",
        "]\n",
        "\n",
        "# Assigning the list of names to the DataFrame's columns\n",
        "credit_df.columns = column_names\n",
        "\n",
        "# Displaying the first 5 rows to confirm the change\n",
        "print(\"DataFrame with new column names:\")\n",
        "print(credit_df.head())"
      ],
      "metadata": {
        "colab": {
          "base_uri": "https://localhost:8080/"
        },
        "id": "qJi_tFe7gE2g",
        "outputId": "ddec70aa-da97-44d2-ae60-4c53eae71609"
      },
      "execution_count": null,
      "outputs": [
        {
          "output_type": "stream",
          "name": "stdout",
          "text": [
            "DataFrame with new column names:\n",
            "  checking_status  duration_month credit_history purpose  credit_amount  \\\n",
            "0             A11               6            A34     A43           1169   \n",
            "1             A12              48            A32     A43           5951   \n",
            "2             A14              12            A34     A46           2096   \n",
            "3             A11              42            A32     A42           7882   \n",
            "4             A11              24            A33     A40           4870   \n",
            "\n",
            "  savings_status employment_since  installment_rate personal_status_sex  \\\n",
            "0            A65              A75                 4                 A93   \n",
            "1            A61              A73                 2                 A92   \n",
            "2            A61              A74                 2                 A93   \n",
            "3            A61              A74                 2                 A93   \n",
            "4            A61              A73                 3                 A93   \n",
            "\n",
            "  other_debtors  ...  property_magnitude age  other_payment_plans housing  \\\n",
            "0          A101  ...                A121  67                 A143    A152   \n",
            "1          A101  ...                A121  22                 A143    A152   \n",
            "2          A101  ...                A121  49                 A143    A152   \n",
            "3          A103  ...                A122  45                 A143    A153   \n",
            "4          A101  ...                A124  53                 A143    A153   \n",
            "\n",
            "  existing_credits   job num_dependents  own_telephone foreign_worker  \\\n",
            "0                2  A173              1           A192           A201   \n",
            "1                1  A173              1           A191           A201   \n",
            "2                1  A172              2           A191           A201   \n",
            "3                1  A173              2           A191           A201   \n",
            "4                2  A173              2           A191           A201   \n",
            "\n",
            "  credit_risk  \n",
            "0           1  \n",
            "1           2  \n",
            "2           1  \n",
            "3           1  \n",
            "4           2  \n",
            "\n",
            "[5 rows x 21 columns]\n"
          ]
        }
      ]
    },
    {
      "cell_type": "markdown",
      "source": [
        "# STEP-2: Now lets Start with Exloratory Data Analysis [EDA]"
      ],
      "metadata": {
        "id": "rJGUe1OGsXVc"
      }
    },
    {
      "cell_type": "code",
      "source": [
        "credit_df.info()"
      ],
      "metadata": {
        "colab": {
          "base_uri": "https://localhost:8080/"
        },
        "id": "fGPCWvqdsh3A",
        "outputId": "7bbf67f7-96b2-45d6-f448-d2b6b12e0d73"
      },
      "execution_count": null,
      "outputs": [
        {
          "output_type": "stream",
          "name": "stdout",
          "text": [
            "<class 'pandas.core.frame.DataFrame'>\n",
            "RangeIndex: 1000 entries, 0 to 999\n",
            "Data columns (total 21 columns):\n",
            " #   Column                   Non-Null Count  Dtype \n",
            "---  ------                   --------------  ----- \n",
            " 0   checking_status          1000 non-null   object\n",
            " 1   duration_month           1000 non-null   int64 \n",
            " 2   credit_history           1000 non-null   object\n",
            " 3   purpose                  1000 non-null   object\n",
            " 4   credit_amount            1000 non-null   int64 \n",
            " 5   savings_status           1000 non-null   object\n",
            " 6   employment_since         1000 non-null   object\n",
            " 7   installment_rate         1000 non-null   int64 \n",
            " 8   personal_status_sex      1000 non-null   object\n",
            " 9   other_debtors            1000 non-null   object\n",
            " 10  present_residence_since  1000 non-null   int64 \n",
            " 11  property_magnitude       1000 non-null   object\n",
            " 12  age                      1000 non-null   int64 \n",
            " 13  other_payment_plans      1000 non-null   object\n",
            " 14  housing                  1000 non-null   object\n",
            " 15  existing_credits         1000 non-null   int64 \n",
            " 16  job                      1000 non-null   object\n",
            " 17  num_dependents           1000 non-null   int64 \n",
            " 18  own_telephone            1000 non-null   object\n",
            " 19  foreign_worker           1000 non-null   object\n",
            " 20  credit_risk              1000 non-null   int64 \n",
            "dtypes: int64(8), object(13)\n",
            "memory usage: 164.2+ KB\n"
          ]
        }
      ]
    },
    {
      "cell_type": "markdown",
      "source": [
        "So no missing Data so lets start with analysis of our Target Variable"
      ],
      "metadata": {
        "id": "2YJsTp07tKeS"
      }
    },
    {
      "cell_type": "code",
      "source": [
        "import seaborn as sns\n",
        "import matplotlib.pyplot as plt\n",
        "\n",
        "# First, let's map the target variable to 0 (Good) and 1 (Bad)\n",
        "credit_df['credit_risk'] = credit_df['credit_risk'].map({1: 0, 2: 1})\n",
        "\n",
        "# Get the counts of each class\n",
        "print(\"Credit Risk Distribution:\")\n",
        "print(credit_df['credit_risk'].value_counts())\n",
        "\n",
        "# Visualize the distribution\n",
        "plt.figure(figsize=(7, 5))\n",
        "sns.countplot(x='credit_risk', data=credit_df)\n",
        "plt.title('Distribution of Credit Risk')\n",
        "plt.xticks([0, 1], ['Good (0)', 'Bad (1)'])\n",
        "plt.ylabel('Count')\n",
        "plt.show()"
      ],
      "metadata": {
        "colab": {
          "base_uri": "https://localhost:8080/",
          "height": 577
        },
        "id": "YvfKyFjHu5jh",
        "outputId": "6d5e7141-298f-49ce-f67d-93748ebd9bfa"
      },
      "execution_count": null,
      "outputs": [
        {
          "output_type": "stream",
          "name": "stdout",
          "text": [
            "Credit Risk Distribution:\n",
            "credit_risk\n",
            "0    700\n",
            "1    300\n",
            "Name: count, dtype: int64\n"
          ]
        },
        {
          "output_type": "display_data",
          "data": {
            "text/plain": [
              "<Figure size 700x500 with 1 Axes>"
            ],
            "image/png": "[encoded data removed]"
          },
          "metadata": {}
        }
      ]
    },
    {
      "cell_type": "markdown",
      "source": [
        "# Step-3 : Exploring the features to see how they relate to credit_risk"
      ],
      "metadata": {
        "id": "sfYYMkDgwG9N"
      }
    },
    {
      "cell_type": "code",
      "source": [
        "plt.figure(figsize=(15, 5))\n",
        "\n",
        "# Plot 1: Credit Amount\n",
        "plt.subplot(1, 2, 1) # 1 row, 2 columns, 1st subplot\n",
        "sns.histplot(data=credit_df, x='credit_amount', hue='credit_risk', kde=True)\n",
        "plt.title('Credit Amount Distribution by Credit Risk')\n",
        "\n",
        "# Plot 2: Age\n",
        "plt.subplot(1, 2, 2) # 1 row, 2 columns, 2nd subplot\n",
        "sns.histplot(data=credit_df, x='age', hue='credit_risk', kde=True)\n",
        "plt.title('Age Distribution by Credit Risk')\n",
        "\n",
        "plt.tight_layout()\n",
        "plt.show()"
      ],
      "metadata": {
        "colab": {
          "base_uri": "https://localhost:8080/",
          "height": 348
        },
        "id": "T7WRVdzAwNQK",
        "outputId": "45bcbde3-71ce-464f-dfaf-cdd6ad54630d"
      },
      "execution_count": null,
      "outputs": [
        {
          "output_type": "display_data",
          "data": {
            "text/plain": [
              "<Figure size 1500x500 with 2 Axes>"
            ],
            "image/png": "[encoded data removed]"
          },
          "metadata": {}
        }
      ]
    },
    {
      "cell_type": "markdown",
      "source": [
        "\"What we can see from theese plots\"\n",
        "1. larger loans tend to be riskier.\n",
        "2. younger applicants might represent a higher credit risk."
      ],
      "metadata": {
        "id": "WXNfMZYYzYp_"
      }
    },
    {
      "cell_type": "code",
      "source": [
        "# List of categorical features we want to analyze\n",
        "categorical_features = ['purpose', 'housing', 'checking_status']\n",
        "\n",
        "plt.figure(figsize=(18, 5))\n",
        "\n",
        "# Loop through each feature and creating a plot\n",
        "for i, feature in enumerate(categorical_features):\n",
        "    plt.subplot(1, 3, i+1) # 1 row, 3 columns, i+1 subplot\n",
        "    sns.countplot(data=credit_df, x=feature, hue='credit_risk')\n",
        "    plt.title(f'{feature.replace(\"_\", \" \").title()} vs. Credit Risk')\n",
        "    plt.xticks(rotation=45, ha='right') # Rotating labels for better readability\n",
        "\n",
        "plt.tight_layout()\n",
        "plt.show()"
      ],
      "metadata": {
        "colab": {
          "base_uri": "https://localhost:8080/",
          "height": 292
        },
        "id": "AxBDJ593zFlc",
        "outputId": "bb8f87cf-8ac0-4ddc-9d37-63b79fa11e93"
      },
      "execution_count": null,
      "outputs": [
        {
          "output_type": "display_data",
          "data": {
            "text/plain": [
              "<Figure size 1800x500 with 3 Axes>"
            ],
            "image/png": "[encoded data removed]"
          },
          "metadata": {}
        }
      ]
    },
    {
      "cell_type": "markdown",
      "source": [
        "All the values names are present in .doc files like A43 represent: Radio/Televisions which was provide with the Dataset.\n",
        "1. Purpose: Loans for 'domestic appliances' or 'radio/tv' might be relatively safe, while loans for 'business' or 'new car' could show a higher proportion of bad risks.\n",
        "2. Look at the difference between people who 'own' a home, 'rent', or have 'free' housing. Often, those who own their home are considered lower risk.\n",
        "3. You'll likely see a clear trend where individuals with 'no checking account' or a 'little' balance are far more likely to be a bad credit risk compared to those with a 'rich' account status."
      ],
      "metadata": {
        "id": "jPmDQrMA--hM"
      }
    },
    {
      "cell_type": "markdown",
      "source": [
        "With This our EDA is done. We will now be progressing towards Preproecessing steps."
      ],
      "metadata": {
        "id": "TxgJWVzjBO4V"
      }
    },
    {
      "cell_type": "markdown",
      "source": [
        "# **Step-4: Data PreProcessing**"
      ],
      "metadata": {
        "id": "jSiU375QBbnP"
      }
    },
    {
      "cell_type": "markdown",
      "source": [
        "## **Part-1**: The goal is to convert our dataset into a fully numerical format that our machine learning models can understand"
      ],
      "metadata": {
        "id": "sdyH1DogDq3e"
      }
    },
    {
      "cell_type": "code",
      "source": [
        "# Separating the features (X) from the target variable (y)\n",
        "X = credit_df.drop('credit_risk', axis=1)\n",
        "y = credit_df['credit_risk']\n",
        "\n",
        "# Performing One-Hot Encoding on the features (X)\n",
        "X_encoded = pd.get_dummies(X, drop_first=True)\n",
        "\n",
        "# Displaying the shape and the first few rows of our newly encoded data\n",
        "print(\"Shape of the encoded feature set (X_encoded):\", X_encoded.shape)\n",
        "print(\"\\nFirst 5 rows of the encoded data:\")\n",
        "print(X_encoded.head())"
      ],
      "metadata": {
        "colab": {
          "base_uri": "https://localhost:8080/"
        },
        "id": "-lHKnHMqCN8K",
        "outputId": "14b144b7-880f-4690-d814-63ce5605744f"
      },
      "execution_count": null,
      "outputs": [
        {
          "output_type": "stream",
          "name": "stdout",
          "text": [
            "Shape of the encoded feature set (X_encoded): (1000, 48)\n",
            "\n",
            "First 5 rows of the encoded data:\n",
            "   duration_month  credit_amount  installment_rate  present_residence_since  \\\n",
            "0               6           1169                 4                        4   \n",
            "1              48           5951                 2                        2   \n",
            "2              12           2096                 2                        3   \n",
            "3              42           7882                 2                        4   \n",
            "4              24           4870                 3                        4   \n",
            "\n",
            "   age  existing_credits  num_dependents  checking_status_A12  \\\n",
            "0   67                 2               1                False   \n",
            "1   22                 1               1                 True   \n",
            "2   49                 1               2                False   \n",
            "3   45                 1               2                False   \n",
            "4   53                 2               2                False   \n",
            "\n",
            "   checking_status_A13  checking_status_A14  ...  property_magnitude_A124  \\\n",
            "0                False                False  ...                    False   \n",
            "1                False                False  ...                    False   \n",
            "2                False                 True  ...                    False   \n",
            "3                False                False  ...                    False   \n",
            "4                False                False  ...                     True   \n",
            "\n",
            "   other_payment_plans_A142  other_payment_plans_A143  housing_A152  \\\n",
            "0                     False                      True          True   \n",
            "1                     False                      True          True   \n",
            "2                     False                      True          True   \n",
            "3                     False                      True         False   \n",
            "4                     False                      True         False   \n",
            "\n",
            "   housing_A153  job_A172  job_A173  job_A174  own_telephone_A192  \\\n",
            "0         False     False      True     False                True   \n",
            "1         False     False      True     False               False   \n",
            "2         False      True     False     False               False   \n",
            "3          True     False      True     False               False   \n",
            "4          True     False      True     False               False   \n",
            "\n",
            "   foreign_worker_A202  \n",
            "0                False  \n",
            "1                False  \n",
            "2                False  \n",
            "3                False  \n",
            "4                False  \n",
            "\n",
            "[5 rows x 48 columns]\n"
          ]
        }
      ]
    },
    {
      "cell_type": "markdown",
      "source": [
        "## Part - 2 : Final preprocessing step is to scale the numerical data and then split everything into training and testing sets"
      ],
      "metadata": {
        "id": "VQ3noYphER_x"
      }
    },
    {
      "cell_type": "code",
      "source": [
        "from sklearn.model_selection import train_test_split\n",
        "from sklearn.preprocessing import StandardScaler\n",
        "\n",
        "# 1. Split the data into training and testing sets (80% train, 20% test)\n",
        "X_train, X_test, y_train, y_test = train_test_split(\n",
        "    X_encoded, y, test_size=0.2, random_state=42, stratify=y\n",
        ")\n",
        "\n",
        "# 2. Scale the numerical features\n",
        "# Note: We will only be scaling the original numerical columns, not the new one-hot encoded columns.\n",
        "numerical_cols = X.select_dtypes(include=['int64', 'float64']).columns\n",
        "scaler = StandardScaler()\n",
        "\n",
        "# Fit the scaler on the training data and transform it\n",
        "X_train[numerical_cols] = scaler.fit_transform(X_train[numerical_cols])\n",
        "\n",
        "# Transforming the test data using the scaler fitted on the training data\n",
        "X_test[numerical_cols] = scaler.transform(X_test[numerical_cols])\n",
        "\n",
        "\n",
        "# Displaying the shapes of the new sets to confirm the split\n",
        "print(\"Shape of X_train:\", X_train.shape)\n",
        "print(\"Shape of X_test:\", X_test.shape)\n",
        "print(\"Shape of y_train:\", y_train.shape)\n",
        "print(\"Shape of y_test:\", y_test.shape)\n",
        "\n",
        "print(\"\\nFirst 5 rows of scaled training data:\")\n",
        "print(X_train.head())"
      ],
      "metadata": {
        "colab": {
          "base_uri": "https://localhost:8080/"
        },
        "id": "B4yGRaF-EeB3",
        "outputId": "99303ac3-58db-4e65-cbde-7a32f824d194"
      },
      "execution_count": null,
      "outputs": [
        {
          "output_type": "stream",
          "name": "stdout",
          "text": [
            "Shape of X_train: (800, 48)\n",
            "Shape of X_test: (200, 48)\n",
            "Shape of y_train: (800,)\n",
            "Shape of y_test: (200,)\n",
            "\n",
            "First 5 rows of scaled training data:\n",
            "     duration_month  credit_amount  installment_rate  present_residence_since  \\\n",
            "828        1.289592       1.925766          0.052281                 1.053413   \n",
            "997       -0.742595      -0.892853          0.942164                 1.053413   \n",
            "148        1.289592       0.816433          0.052281                -0.747293   \n",
            "735        1.289592       0.299568          0.052281                -0.747293   \n",
            "130        2.305686       1.982655         -1.727486                -0.747293   \n",
            "\n",
            "          age  existing_credits  num_dependents  checking_status_A12  \\\n",
            "828  1.057784         -0.718745       -0.436436                False   \n",
            "997  0.242449         -0.718745       -0.436436                False   \n",
            "148 -0.663479          1.045047       -0.436436                False   \n",
            "735 -0.572886         -0.718745       -0.436436                 True   \n",
            "130 -1.025850         -0.718745       -0.436436                 True   \n",
            "\n",
            "     checking_status_A13  checking_status_A14  ...  property_magnitude_A124  \\\n",
            "828                False                False  ...                     True   \n",
            "997                False                 True  ...                    False   \n",
            "148                False                False  ...                    False   \n",
            "735                False                False  ...                     True   \n",
            "130                False                False  ...                    False   \n",
            "\n",
            "     other_payment_plans_A142  other_payment_plans_A143  housing_A152  \\\n",
            "828                     False                      True         False   \n",
            "997                     False                      True          True   \n",
            "148                     False                      True          True   \n",
            "735                     False                     False          True   \n",
            "130                     False                      True          True   \n",
            "\n",
            "     housing_A153  job_A172  job_A173  job_A174  own_telephone_A192  \\\n",
            "828          True     False      True     False               False   \n",
            "997         False     False      True     False               False   \n",
            "148         False     False      True     False               False   \n",
            "735         False     False     False     False               False   \n",
            "130         False     False      True     False               False   \n",
            "\n",
            "     foreign_worker_A202  \n",
            "828                False  \n",
            "997                False  \n",
            "148                False  \n",
            "735                False  \n",
            "130                False  \n",
            "\n",
            "[5 rows x 48 columns]\n"
          ]
        }
      ]
    },
    {
      "cell_type": "markdown",
      "source": [
        "Everything Regarding This I have mentioned in Note Format in the code Section only. So We will be Progressing towards the NExt Step."
      ],
      "metadata": {
        "id": "ZlBpxyamG74G"
      }
    },
    {
      "cell_type": "markdown",
      "source": [
        "# **Step-5 : Training Models Used**"
      ],
      "metadata": {
        "id": "T27GwpMtHJmY"
      }
    },
    {
      "cell_type": "markdown",
      "source": [
        "## **1. Logistic Regression Model**"
      ],
      "metadata": {
        "id": "NeusdwEGHdAQ"
      }
    },
    {
      "cell_type": "markdown",
      "source": [
        "###Part 1: Train the Logistic Regression Model"
      ],
      "metadata": {
        "id": "T2BoqrKhHuT0"
      }
    },
    {
      "cell_type": "code",
      "source": [
        "from sklearn.linear_model import LogisticRegression\n",
        "from sklearn.metrics import classification_report, confusion_matrix, roc_auc_score\n",
        "\n",
        "# 1. Create an instance of the Logistic Regression model\n",
        "log_reg = LogisticRegression(random_state=42, max_iter=1000)\n",
        "\n",
        "# 2. Train (fit) the model on the training data\n",
        "log_reg.fit(X_train, y_train)\n",
        "\n",
        "# 3. Make predictions on the unseen test data\n",
        "y_pred_log_reg = log_reg.predict(X_test)"
      ],
      "metadata": {
        "id": "MSnfbJwRHJLm"
      },
      "execution_count": null,
      "outputs": []
    },
    {
      "cell_type": "markdown",
      "source": [
        "### Part 2: Evaluate the Model's Performance"
      ],
      "metadata": {
        "id": "_FqhuZACH1H7"
      }
    },
    {
      "cell_type": "code",
      "source": [
        "# --- Classification Report ---\n",
        "# Precision, recall, and f1-score for each class\n",
        "print(\"Classification Report:\")\n",
        "print(classification_report(y_test, y_pred_log_reg))\n",
        "\n",
        "# --- Confusion Matrix ---\n",
        "# TP, FP, TN, FN\n",
        "print(\"\\nConfusion Matrix:\")\n",
        "print(confusion_matrix(y_test, y_pred_log_reg))\n",
        "\n",
        "# --- ROC-AUC Score ---\n",
        "# Measures the model's ability to distinguish between classes\n",
        "roc_auc = roc_auc_score(y_test, y_pred_log_reg)\n",
        "print(f\"\\nROC-AUC Score: {roc_auc:.4f}\")"
      ],
      "metadata": {
        "colab": {
          "base_uri": "https://localhost:8080/"
        },
        "id": "gMiKCpicH-oG",
        "outputId": "22c911f6-bea1-4e2e-f3c7-ed374fa5439c"
      },
      "execution_count": null,
      "outputs": [
        {
          "output_type": "stream",
          "name": "stdout",
          "text": [
            "Classification Report:\n",
            "              precision    recall  f1-score   support\n",
            "\n",
            "           0       0.82      0.89      0.85       140\n",
            "           1       0.67      0.53      0.59        60\n",
            "\n",
            "    accuracy                           0.78       200\n",
            "   macro avg       0.74      0.71      0.72       200\n",
            "weighted avg       0.77      0.78      0.77       200\n",
            "\n",
            "\n",
            "Confusion Matrix:\n",
            "[[124  16]\n",
            " [ 28  32]]\n",
            "\n",
            "ROC-AUC Score: 0.7095\n"
          ]
        }
      ]
    },
    {
      "cell_type": "markdown",
      "source": [
        "## **Classification Report: Focus on the metrics for class 1 (Bad Risk).**"
      ],
      "metadata": {
        "id": "F3-aGyIjMWEJ"
      }
    },
    {
      "cell_type": "markdown",
      "source": [
        "\n",
        "\n",
        "###**Precision** : Of all the applicants the model flagged as \"Bad,\" what percentage were actually bad? A high precision means the bank won't deny loans to good applicants unnecessarily.\n",
        "\n",
        "###**Recall** : Of all the applicants who were truly \"Bad,\" what percentage did our model catch? A high recall means the bank is successful at identifying risky individuals.\n",
        "\n",
        "###**F1-Score** : A balanced measure of Precision and Recall.\n",
        "\n",
        "\n",
        "###**ROC-AUC Score** : A single number summary (from 0.5 to 1.0) of the model's predictive power. A score around 0.70-0.75 is a decent start for this dataset."
      ],
      "metadata": {
        "id": "88ZPkXALLouJ"
      }
    },
    {
      "cell_type": "markdown",
      "source": [
        "##**2. Decision Tree Model**"
      ],
      "metadata": {
        "id": "D9c6edZbNKzN"
      }
    },
    {
      "cell_type": "markdown",
      "source": [
        "### Part-1 : Train the Decision Tree Model"
      ],
      "metadata": {
        "id": "KMho3qYcNuze"
      }
    },
    {
      "cell_type": "code",
      "source": [
        "from sklearn.tree import DecisionTreeClassifier\n",
        "\n",
        "# 1. Create an instance of the Decision Tree model\n",
        "dt_clf = DecisionTreeClassifier(random_state=42)\n",
        "\n",
        "# 2. Train (fit) the model on the training data\n",
        "dt_clf.fit(X_train, y_train)\n",
        "\n",
        "# 3. Make predictions on the test data\n",
        "y_pred_dt = dt_clf.predict(X_test)"
      ],
      "metadata": {
        "id": "TJyVT8lmN0fX"
      },
      "execution_count": null,
      "outputs": []
    },
    {
      "cell_type": "markdown",
      "source": [
        "### Part-2 : Evaluate the Decision Tree"
      ],
      "metadata": {
        "id": "frULQJ9dN5Ct"
      }
    },
    {
      "cell_type": "code",
      "source": [
        "# --- Classification Report ---\n",
        "print(\"Classification Report:\")\n",
        "print(classification_report(y_test, y_pred_dt))\n",
        "\n",
        "# --- Confusion Matrix ---\n",
        "print(\"\\nConfusion Matrix:\")\n",
        "print(confusion_matrix(y_test, y_pred_dt))\n",
        "\n",
        "# --- Accuracy and ROC-AUC Score ---\n",
        "accuracy_dt = accuracy_score(y_test, y_pred_dt)\n",
        "roc_auc_dt = roc_auc_score(y_test, y_pred_dt)\n",
        "print(f\"\\nOverall Accuracy: {accuracy_dt:.4f}\")\n",
        "print(f\"ROC-AUC Score: {roc_auc_dt:.4f}\")"
      ],
      "metadata": {
        "colab": {
          "base_uri": "https://localhost:8080/"
        },
        "id": "HZg24ZsHODrh",
        "outputId": "d8df28f7-7a21-471d-a5cc-0d08890b22d1"
      },
      "execution_count": null,
      "outputs": [
        {
          "output_type": "stream",
          "name": "stdout",
          "text": [
            "Classification Report:\n",
            "              precision    recall  f1-score   support\n",
            "\n",
            "           0       0.76      0.71      0.74       140\n",
            "           1       0.41      0.47      0.44        60\n",
            "\n",
            "    accuracy                           0.64       200\n",
            "   macro avg       0.58      0.59      0.59       200\n",
            "weighted avg       0.65      0.64      0.65       200\n",
            "\n",
            "\n",
            "Confusion Matrix:\n",
            "[[100  40]\n",
            " [ 32  28]]\n",
            "\n",
            "Overall Accuracy: 0.6400\n",
            "ROC-AUC Score: 0.5905\n"
          ]
        }
      ]
    },
    {
      "cell_type": "markdown",
      "source": [
        "##*The most likely reason for the poor performance is overfitting.*"
      ],
      "metadata": {
        "id": "VPq2rNcuPY9J"
      }
    },
    {
      "cell_type": "markdown",
      "source": [
        "##**3. Random Forest Model**"
      ],
      "metadata": {
        "id": "xmxVshQKO9nP"
      }
    },
    {
      "cell_type": "markdown",
      "source": [
        "### Part-1 : Random Forest Model"
      ],
      "metadata": {
        "id": "AaCj_AJ6P07e"
      }
    },
    {
      "cell_type": "code",
      "source": [
        "from sklearn.ensemble import RandomForestClassifier\n",
        "\n",
        "# 1. Create an instance of the Random Forest model\n",
        "rf_clf = RandomForestClassifier(random_state=42)\n",
        "\n",
        "# 2. Train (fit) the model on the training data\n",
        "rf_clf.fit(X_train, y_train)\n",
        "\n",
        "# 3. Make predictions on the test data\n",
        "y_pred_rf = rf_clf.predict(X_test)"
      ],
      "metadata": {
        "id": "_Jq47TLwP0qa"
      },
      "execution_count": null,
      "outputs": []
    },
    {
      "cell_type": "markdown",
      "source": [
        "### Part-2 : Evaluate the Random Forest Model"
      ],
      "metadata": {
        "id": "7onjvujbP7FQ"
      }
    },
    {
      "cell_type": "code",
      "source": [
        "# --- Classification Report ---\n",
        "print(\"Classification Report:\")\n",
        "print(classification_report(y_test, y_pred_rf))\n",
        "\n",
        "# --- Confusion Matrix ---\n",
        "print(\"\\nConfusion Matrix:\")\n",
        "print(confusion_matrix(y_test, y_pred_rf))\n",
        "\n",
        "# --- Accuracy and ROC-AUC Score ---\n",
        "accuracy_rf = accuracy_score(y_test, y_pred_rf)\n",
        "roc_auc_rf = roc_auc_score(y_test, y_pred_rf)\n",
        "print(f\"\\nOverall Accuracy: {accuracy_rf:.4f}\")\n",
        "print(f\"ROC-AUC Score: {roc_auc_rf:.4f}\")"
      ],
      "metadata": {
        "colab": {
          "base_uri": "https://localhost:8080/"
        },
        "id": "ajl0BmDuQEX2",
        "outputId": "758c44f4-25b2-40a8-d97b-8c9ea7d3dc3f"
      },
      "execution_count": null,
      "outputs": [
        {
          "output_type": "stream",
          "name": "stdout",
          "text": [
            "Classification Report:\n",
            "              precision    recall  f1-score   support\n",
            "\n",
            "           0       0.77      0.94      0.85       140\n",
            "           1       0.70      0.35      0.47        60\n",
            "\n",
            "    accuracy                           0.76       200\n",
            "   macro avg       0.74      0.64      0.66       200\n",
            "weighted avg       0.75      0.76      0.73       200\n",
            "\n",
            "\n",
            "Confusion Matrix:\n",
            "[[131   9]\n",
            " [ 39  21]]\n",
            "\n",
            "Overall Accuracy: 0.7600\n",
            "ROC-AUC Score: 0.6429\n"
          ]
        }
      ]
    },
    {
      "cell_type": "markdown",
      "source": [
        "#**Model Performance Summary**"
      ],
      "metadata": {
        "id": "cwQTsPCtUQ8G"
      }
    },
    {
      "cell_type": "code",
      "source": [
        "# Assuming you have these variables from the previous steps:\n",
        "# For Logistic Regression: accuracy, roc_auc, and the f1-score for class 1\n",
        "# For Decision Tree: accuracy_dt, roc_auc_dt, and the f1-score for class 1\n",
        "\n",
        "# Let's get the F1-scores from the classification reports.\n",
        "# For Logistic Regression (example value, replace with yours)\n",
        "f1_log_reg = 0.59 # Replace with the F1-score for class 1 from your report\n",
        "\n",
        "# For Decision Tree (example value, replace with yours)\n",
        "f1_dt = 0.44 # Replace with the F1-score for class 1 from your report\n",
        "\n",
        "# For Random Forest\n",
        "report_rf = classification_report(y_test, y_pred_rf, output_dict=True)\n",
        "f1_rf = report_rf['1']['f1-score']\n",
        "\n",
        "\n",
        "# Create a dictionary with the results\n",
        "summary_data = {\n",
        "    'Accuracy': [accuracy, accuracy_dt, accuracy_rf],\n",
        "    'ROC-AUC Score': [roc_auc, roc_auc_dt, roc_auc_rf],\n",
        "    'F1-Score (Bad Risk)': [f1_log_reg, f1_dt, f1_rf]\n",
        "}\n",
        "\n",
        "# Create a pandas DataFrame for a nice display\n",
        "summary_df = pd.DataFrame(summary_data, index=['Logistic Regression', 'Decision Tree', 'Random Forest'])\n",
        "\n",
        "# Print the summary table, formatted to 4 decimal places\n",
        "print(\"Model Performance Comparison:\")\n",
        "print(summary_df.round(4))"
      ],
      "metadata": {
        "colab": {
          "base_uri": "https://localhost:8080/"
        },
        "id": "IZbdGpq5Q1tA",
        "outputId": "31f85cb6-831e-4c23-d9cc-6af638faaa7d"
      },
      "execution_count": null,
      "outputs": [
        {
          "output_type": "stream",
          "name": "stdout",
          "text": [
            "Model Performance Comparison:\n",
            "                     Accuracy  ROC-AUC Score  F1-Score (Bad Risk)\n",
            "Logistic Regression      0.78         0.7095               0.5900\n",
            "Decision Tree            0.64         0.5905               0.4400\n",
            "Random Forest            0.76         0.6429               0.4667\n"
          ]
        }
      ]
    },
    {
      "cell_type": "code",
      "source": [
        "import re\n",
        "\n",
        "# Clean the column names for XGBoost\n",
        "regex = re.compile(r\"\\[|\\]|<\", re.IGNORECASE)\n",
        "X_train.columns = [regex.sub(\"_\", col) if any(x in str(col) for x in set(('[', ']', '<'))) else col for col in X_train.columns]\n",
        "X_test.columns = [regex.sub(\"_\", col) if any(x in str(col) for x in set(('[', ']', '<'))) else col for col in X_test.columns]"
      ],
      "metadata": {
        "id": "GQR9-YCzSo0t"
      },
      "execution_count": null,
      "outputs": []
    },
    {
      "cell_type": "markdown",
      "source": [
        "##**3. XG BOOST Model**"
      ],
      "metadata": {
        "id": "WPw1xBsHTuId"
      }
    },
    {
      "cell_type": "markdown",
      "source": [
        "### Part-1 : Train the XGBoost Model"
      ],
      "metadata": {
        "id": "j8M4bOF_T2sy"
      }
    },
    {
      "cell_type": "code",
      "source": [
        "import xgboost as xgb\n",
        "\n",
        "# 1. Create an instance of the XGBoost model\n",
        "# use_label_encoder=False is recommended to avoid a deprecation warning\n",
        "xgb_clf = xgb.XGBClassifier(random_state=42, use_label_encoder=False, eval_metric='logloss')\n",
        "\n",
        "# 2. Train (fit) the model on the training data\n",
        "xgb_clf.fit(X_train, y_train)\n",
        "\n",
        "# 3. Make predictions on the test data\n",
        "y_pred_xgb = xgb_clf.predict(X_test)"
      ],
      "metadata": {
        "colab": {
          "base_uri": "https://localhost:8080/"
        },
        "id": "SEsxhXqbTKJA",
        "outputId": "864a5da9-5cb2-4da7-8113-d51ba2c5922e"
      },
      "execution_count": null,
      "outputs": [
        {
          "output_type": "stream",
          "name": "stderr",
          "text": [
            "/usr/local/lib/python3.12/dist-packages/xgboost/training.py:183: UserWarning: [10:24:41] WARNING: /workspace/src/learner.cc:738: \n",
            "Parameters: { \"use_label_encoder\" } are not used.\n",
            "\n",
            "  bst.update(dtrain, iteration=i, fobj=obj)\n"
          ]
        }
      ]
    },
    {
      "cell_type": "markdown",
      "source": [
        "### Part-2 : Evaluate the XGBoost Model"
      ],
      "metadata": {
        "id": "ooJg4PC5UCHM"
      }
    },
    {
      "cell_type": "code",
      "source": [
        "# --- Classification Report ---\n",
        "print(\"Classification Report:\")\n",
        "print(classification_report(y_test, y_pred_xgb))\n",
        "\n",
        "# --- Confusion Matrix ---\n",
        "print(\"\\nConfusion Matrix:\")\n",
        "print(confusion_matrix(y_test, y_pred_xgb))\n",
        "\n",
        "# --- Accuracy and ROC-AUC Score ---\n",
        "accuracy_xgb = accuracy_score(y_test, y_pred_xgb)\n",
        "roc_auc_xgb = roc_auc_score(y_test, y_pred_xgb)\n",
        "print(f\"\\nOverall Accuracy: {accuracy_xgb:.4f}\")\n",
        "print(f\"ROC-AUC Score: {roc_auc_xgb:.4f}\")"
      ],
      "metadata": {
        "colab": {
          "base_uri": "https://localhost:8080/"
        },
        "id": "gLTh0Z3DTZS0",
        "outputId": "97100e9b-4dbb-462f-fda1-abd7a40b6e82"
      },
      "execution_count": null,
      "outputs": [
        {
          "output_type": "stream",
          "name": "stdout",
          "text": [
            "Classification Report:\n",
            "              precision    recall  f1-score   support\n",
            "\n",
            "           0       0.80      0.87      0.84       140\n",
            "           1       0.62      0.50      0.56        60\n",
            "\n",
            "    accuracy                           0.76       200\n",
            "   macro avg       0.71      0.69      0.70       200\n",
            "weighted avg       0.75      0.76      0.75       200\n",
            "\n",
            "\n",
            "Confusion Matrix:\n",
            "[[122  18]\n",
            " [ 30  30]]\n",
            "\n",
            "Overall Accuracy: 0.7600\n",
            "ROC-AUC Score: 0.6857\n"
          ]
        }
      ]
    },
    {
      "cell_type": "markdown",
      "source": [
        "#**Model Performance Summary AFTER XGBoost**"
      ],
      "metadata": {
        "id": "9Y8P38G5UJZY"
      }
    },
    {
      "cell_type": "code",
      "source": [
        "# First, let's get the F1-score for XGBoost\n",
        "report_xgb = classification_report(y_test, y_pred_xgb, output_dict=True)\n",
        "f1_xgb = report_xgb['1']['f1-score']\n",
        "\n",
        "# Add the new row for XGBoost to our summary DataFrame\n",
        "summary_df.loc['XGBoost'] = [accuracy_xgb, roc_auc_xgb, f1_xgb]\n",
        "\n",
        "# Print the final, complete comparison table\n",
        "print(\"Final Model Performance Comparison:\")\n",
        "print(summary_df.round(4).sort_values(by='ROC-AUC Score', ascending=False))"
      ],
      "metadata": {
        "colab": {
          "base_uri": "https://localhost:8080/"
        },
        "id": "xe19c-n5Tr2-",
        "outputId": "a9b1fbe3-c362-48ed-db68-9abb56d95670"
      },
      "execution_count": null,
      "outputs": [
        {
          "output_type": "stream",
          "name": "stdout",
          "text": [
            "Final Model Performance Comparison:\n",
            "                     Accuracy  ROC-AUC Score  F1-Score (Bad Risk)\n",
            "Logistic Regression      0.78         0.7095               0.5900\n",
            "XGBoost                  0.76         0.6857               0.5556\n",
            "Random Forest            0.76         0.6429               0.4667\n",
            "Decision Tree            0.64         0.5905               0.4400\n"
          ]
        }
      ]
    }
  ]
}